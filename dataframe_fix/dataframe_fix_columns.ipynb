{
 "cells": [
  {
   "cell_type": "code",
   "execution_count": 1,
   "metadata": {},
   "outputs": [],
   "source": [
    "import pandas as pd\n",
    "import os\n",
    "from os.path import join"
   ]
  },
  {
   "cell_type": "code",
   "execution_count": 8,
   "metadata": {},
   "outputs": [],
   "source": [
    "def add_columns(files, specie, songtype):\n",
    "    \n",
    "    df_1 = pd.read_csv(path + '/' + files[0])\n",
    "    df_2 = pd.read_csv(path + '/' + files[1])\n",
    "    df_3 = pd.read_csv(path + '/' + files[2])\n",
    "    df   = pd.concat([df_1,df_2,df_3], axis=0)\n",
    "    filenames = df['recording']\n",
    "    year = []\n",
    "    month = []\n",
    "    shortname = []\n",
    "    for filename in filenames: \n",
    "        rest1, rest2, yy, mm, rest3 = filename.split(\"/\")\n",
    "        year.append(yy)\n",
    "        month.append(mm)\n",
    "        shortname.append(rest3)\n",
    "    df.insert(loc=3, column='month', value=month)\n",
    "    df.insert(loc=3, column='year', value=year)\n",
    "    df.insert(loc=5, column='songtype', value=songtype)\n",
    "    df.insert(loc=5, column='species', value=specie)\n",
    "    df['recording'] = shortname\n",
    "    \n",
    "    #FILTRAR LAS ETIQUETAS VALIDADAS COMO 'present' 'not present' y 'not validated'\n",
    "    df_tp = df[df.validated == 'present']\n",
    "    df_fp = df[df.validated == 'not present']\n",
    "    df_nv = df[df.validated == '(not validated)']\n",
    "    #REINICIAR INDICE\n",
    "    df_tp = df_tp.reset_index()\n",
    "    df_fp = df_fp.reset_index()\n",
    "    df_nv = df_nv.reset_index()\n",
    "    #Borrar columna que se crea automaticamente con reset_index\n",
    "    df_tp.drop(['index'],axis=1,inplace=True)\n",
    "    df_fp.drop(['index'],axis=1,inplace=True)\n",
    "    df_nv.drop(['index'],axis=1,inplace=True)\n",
    "    \n",
    "    print('present: ', len(df_tp))\n",
    "    print('not present: ', len(df_fp))\n",
    "    print('not validated: ', len(df_nv))\n",
    "    \n",
    "    return(df_tp, df_fp, df_nv)"
   ]
  },
  {
   "cell_type": "code",
   "execution_count": 21,
   "metadata": {},
   "outputs": [],
   "source": [
    "specie = 'Agelasticus thilius'\n",
    "songtype = 'Alternative Song 2'\n",
    "folder_specie = 'Agelasticus_thilius'\n",
    "folder_template = 'AGTH_c'"
   ]
  },
  {
   "cell_type": "code",
   "execution_count": 22,
   "metadata": {},
   "outputs": [
    {
     "name": "stdout",
     "output_type": "stream",
     "text": [
      "['AGTH_7.csv', 'AGTH_8.csv', 'AGTH_9.csv']\n"
     ]
    }
   ],
   "source": [
    "cwd = os.getcwd()\n",
    "path = join(cwd, 'Export_Pattern_Matching_data', folder_specie, folder_template)\n",
    "files = sorted(os.listdir(path))\n",
    "files = [f for f in files if f.endswith('csv')]\n",
    "print(files)"
   ]
  },
  {
   "cell_type": "code",
   "execution_count": 23,
   "metadata": {},
   "outputs": [
    {
     "name": "stdout",
     "output_type": "stream",
     "text": [
      "present:  762\n",
      "not present:  1081\n",
      "not validated:  46736\n"
     ]
    }
   ],
   "source": [
    "df_tp, df_fp, df_nv = add_columns(files, specie, songtype)\n",
    "df_tp.to_csv(path + '/' + folder_template + '_tp.csv')\n",
    "df_fp.to_csv(path + '/' + folder_template + '_fp.csv')\n",
    "#df_nv.to_csv(path + '/' + folder_template + '_nv.csv')"
   ]
  },
  {
   "cell_type": "code",
   "execution_count": null,
   "metadata": {},
   "outputs": [],
   "source": []
  }
 ],
 "metadata": {
  "kernelspec": {
   "display_name": "exp1",
   "language": "python",
   "name": "exp1"
  },
  "language_info": {
   "codemirror_mode": {
    "name": "ipython",
    "version": 3
   },
   "file_extension": ".py",
   "mimetype": "text/x-python",
   "name": "python",
   "nbconvert_exporter": "python",
   "pygments_lexer": "ipython3",
   "version": "3.9.5"
  }
 },
 "nbformat": 4,
 "nbformat_minor": 4
}
