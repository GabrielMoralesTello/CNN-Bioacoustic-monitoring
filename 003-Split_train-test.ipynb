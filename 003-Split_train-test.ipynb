{
 "cells": [
  {
   "cell_type": "code",
   "execution_count": 1,
   "id": "37a2114e",
   "metadata": {},
   "outputs": [],
   "source": [
    "import pandas as pd\n",
    "import os\n",
    "import numpy as np\n",
    "from sklearn.model_selection import train_test_split\n",
    "import shutil"
   ]
  },
  {
   "cell_type": "code",
   "execution_count": 2,
   "id": "315e5570",
   "metadata": {},
   "outputs": [
    {
     "name": "stdout",
     "output_type": "stream",
     "text": [
      "['Mareca sibilatrix', 'Colorhamphus parvirostris', 'Curaeus curaeus', 'Sicalis luteola', 'Pardirallus sanguinolentus', 'Porzana spiloptera kiker', 'Porzana spiloptera pw', 'Glaucidium nana b', 'Phleocryptes melanops', 'Cistothorus platensis', 'Agelasticus thilius', 'Troglodytes aedon', 'Elaenia albiceps', 'Gallinago paraguaiae', 'Anairetes parulus', 'Eugralla paradoxa', 'Scytalopus magellanicus', 'Glaucidium nana a'] \n",
      "\n",
      " Total species:  18\n"
     ]
    }
   ],
   "source": [
    "#Lista de especies (extraida del dataset de presencias)\n",
    "\n",
    "#df = pd.read_csv('../sound_annotation_files_splited/presences/presences.csv')\n",
    "#species = []\n",
    "#for i in sorted(list(set(df.species))):\n",
    "#    species.append(i.replace(' ','_'))\n",
    "\n",
    "species = os.listdir('../dataset/STFT/presences/')\n",
    "print(species, '\\n\\n', 'Total species: ',len(species))"
   ]
  },
  {
   "cell_type": "code",
   "execution_count": 3,
   "id": "e4025e1e",
   "metadata": {},
   "outputs": [],
   "source": [
    "#Path donde se alojan las muestrasde presencias:\n",
    "dataset_STFT_p = '../dataset/STFT/presences/'\n",
    "#Path donde se alojan las muestrasde ausencias:\n",
    "dataset_STFT_a = '../dataset/STFT/absences/'\n",
    "\n",
    "#Path donde se guardarán las muestras divididas de presencias:\n",
    "dataset_train_STFT_p = '../dataset_train/STFT/presences/'\n",
    "dataset_test_STFT_p = '../dataset_test/STFT/presences/'\n",
    "#Path donde se guardarán las muestras divididas de ausencias:\n",
    "dataset_train_STFT_a = '../dataset_train/STFT/absences/'\n",
    "dataset_test_STFT_a = '../dataset_test/STFT/absences/'\n"
   ]
  },
  {
   "cell_type": "code",
   "execution_count": 4,
   "id": "095ed6ba",
   "metadata": {},
   "outputs": [],
   "source": [
    "# Crear carpetas de species:\n",
    "for i in species:\n",
    "    if not os.path.exists(dataset_train_STFT_p+str(i)):\n",
    "        os.mkdir(dataset_train_STFT_p+str(i))\n",
    "    if not os.path.exists(dataset_test_STFT_p+str(i)):\n",
    "        os.mkdir(dataset_test_STFT_p+str(i))\n",
    "    if not os.path.exists(dataset_train_STFT_a+str(i)):\n",
    "        os.mkdir(dataset_train_STFT_a+str(i))\n",
    "    if not os.path.exists(dataset_test_STFT_a+str(i)):\n",
    "        os.mkdir(dataset_test_STFT_a+str(i))"
   ]
  },
  {
   "cell_type": "markdown",
   "id": "c0185a93",
   "metadata": {},
   "source": [
    "### Split:"
   ]
  },
  {
   "cell_type": "code",
   "execution_count": 5,
   "id": "134de623",
   "metadata": {},
   "outputs": [],
   "source": [
    "#STFT PRESENCES:\n",
    "for i in species:\n",
    "    train, test = train_test_split(os.listdir(dataset_STFT_p+i), \n",
    "                                   test_size=0.2, \n",
    "                                   random_state=42)\n",
    "    for j in train:\n",
    "        shutil.copyfile(dataset_STFT_p+i+'/'+j, dataset_train_STFT_p+i+'/'+j)\n",
    "    for k in test:\n",
    "        shutil.copyfile(dataset_STFT_p+i+'/'+k, dataset_test_STFT_p+i+'/'+k)"
   ]
  },
  {
   "cell_type": "code",
   "execution_count": 6,
   "id": "5900b3f9",
   "metadata": {},
   "outputs": [],
   "source": [
    "#STFT ABSENCES:\n",
    "for i in species:\n",
    "    train, test = train_test_split(os.listdir(dataset_STFT_a+i), \n",
    "                                   test_size=0.2, \n",
    "                                   random_state=42)\n",
    "    for j in train:\n",
    "        shutil.copyfile(dataset_STFT_a+i+'/'+j, dataset_train_STFT_a+i+'/'+j)\n",
    "    for k in test:\n",
    "        shutil.copyfile(dataset_STFT_a+i+'/'+k, dataset_test_STFT_a+i+'/'+k)"
   ]
  },
  {
   "cell_type": "code",
   "execution_count": null,
   "id": "77e15d31",
   "metadata": {},
   "outputs": [],
   "source": []
  }
 ],
 "metadata": {
  "kernelspec": {
   "display_name": "exp1",
   "language": "python",
   "name": "exp1"
  },
  "language_info": {
   "codemirror_mode": {
    "name": "ipython",
    "version": 3
   },
   "file_extension": ".py",
   "mimetype": "text/x-python",
   "name": "python",
   "nbconvert_exporter": "python",
   "pygments_lexer": "ipython3",
   "version": "3.9.5"
  }
 },
 "nbformat": 4,
 "nbformat_minor": 5
}
