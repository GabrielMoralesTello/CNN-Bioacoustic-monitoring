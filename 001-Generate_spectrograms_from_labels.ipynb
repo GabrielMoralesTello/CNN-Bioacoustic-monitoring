{
 "cells": [
  {
   "cell_type": "code",
   "execution_count": 17,
   "metadata": {},
   "outputs": [],
   "source": [
    "import os\n",
    "import shutil\n",
    "import pickle\n",
    "import pandas as pd\n",
    "import matplotlib.pyplot as plt\n",
    "import librosa\n",
    "import librosa.display\n",
    "import gc\n",
    "import numpy as np\n",
    "import urllib"
   ]
  },
  {
   "cell_type": "code",
   "execution_count": 18,
   "metadata": {
    "scrolled": true
   },
   "outputs": [],
   "source": [
    "dataset_dir_p = '../dataset/STFT/presences/' # Folder where dataset will be stored (presences)\n",
    "dataset_dir_a = '../dataset/STFT/absences/' # Folder where dataset will be stored (absences)\n",
    "recording_dir = '../recordings/' # Folder holding recordings\n",
    "\n",
    "#### csv from Arbimon ###\n",
    "path = '../sound_annotation_files/'\n",
    "csv = sorted(os.listdir(path))\n",
    "sound_annotation_files = []\n",
    "for i in csv:\n",
    "    if i.endswith('.csv'):\n",
    "        sound_annotation_files.append(path+i)\n",
    "#########################\n",
    "\n",
    "sampling_rate = 44100 "
   ]
  },
  {
   "cell_type": "code",
   "execution_count": 21,
   "metadata": {
    "scrolled": true
   },
   "outputs": [
    {
     "data": {
      "text/html": [
       "<div>\n",
       "<style scoped>\n",
       "    .dataframe tbody tr th:only-of-type {\n",
       "        vertical-align: middle;\n",
       "    }\n",
       "\n",
       "    .dataframe tbody tr th {\n",
       "        vertical-align: top;\n",
       "    }\n",
       "\n",
       "    .dataframe thead th {\n",
       "        text-align: right;\n",
       "    }\n",
       "</style>\n",
       "<table border=\"1\" class=\"dataframe\">\n",
       "  <thead>\n",
       "    <tr style=\"text-align: right;\">\n",
       "      <th></th>\n",
       "      <th>id</th>\n",
       "      <th>recording</th>\n",
       "      <th>site</th>\n",
       "      <th>year</th>\n",
       "      <th>month</th>\n",
       "      <th>day</th>\n",
       "      <th>hour</th>\n",
       "      <th>minute</th>\n",
       "      <th>species</th>\n",
       "      <th>songtype</th>\n",
       "      <th>x1</th>\n",
       "      <th>x2</th>\n",
       "      <th>y1</th>\n",
       "      <th>y2</th>\n",
       "      <th>frequency</th>\n",
       "      <th>validated</th>\n",
       "      <th>url</th>\n",
       "      <th>score</th>\n",
       "      <th>site_id</th>\n",
       "    </tr>\n",
       "  </thead>\n",
       "  <tbody>\n",
       "    <tr>\n",
       "      <th>0</th>\n",
       "      <td>168185976</td>\n",
       "      <td>MON_20200331_180000.p5.flac</td>\n",
       "      <td>Angachilla</td>\n",
       "      <td>2020</td>\n",
       "      <td>3</td>\n",
       "      <td>31</td>\n",
       "      <td>18</td>\n",
       "      <td>4</td>\n",
       "      <td>Agelasticus thilius</td>\n",
       "      <td>Alternative Song</td>\n",
       "      <td>40.095057</td>\n",
       "      <td>41.528889</td>\n",
       "      <td>1205.859375</td>\n",
       "      <td>7235.15625</td>\n",
       "      <td>22050</td>\n",
       "      <td>(not validated)</td>\n",
       "      <td>https://arbimon.rfcx.org/api/project/urban-wet...</td>\n",
       "      <td>0.218565</td>\n",
       "      <td>22306</td>\n",
       "    </tr>\n",
       "    <tr>\n",
       "      <th>1</th>\n",
       "      <td>168185910</td>\n",
       "      <td>MON_20200331_120000.p4.flac</td>\n",
       "      <td>Angachilla</td>\n",
       "      <td>2020</td>\n",
       "      <td>3</td>\n",
       "      <td>31</td>\n",
       "      <td>12</td>\n",
       "      <td>3</td>\n",
       "      <td>Agelasticus thilius</td>\n",
       "      <td>Alternative Song</td>\n",
       "      <td>11.662222</td>\n",
       "      <td>13.096054</td>\n",
       "      <td>1205.859375</td>\n",
       "      <td>7235.15625</td>\n",
       "      <td>22050</td>\n",
       "      <td>(not validated)</td>\n",
       "      <td>https://arbimon.rfcx.org/api/project/urban-wet...</td>\n",
       "      <td>0.193405</td>\n",
       "      <td>22306</td>\n",
       "    </tr>\n",
       "    <tr>\n",
       "      <th>2</th>\n",
       "      <td>168185935</td>\n",
       "      <td>MON_20200331_150000.p2.flac</td>\n",
       "      <td>Angachilla</td>\n",
       "      <td>2020</td>\n",
       "      <td>3</td>\n",
       "      <td>31</td>\n",
       "      <td>15</td>\n",
       "      <td>1</td>\n",
       "      <td>Agelasticus thilius</td>\n",
       "      <td>Alternative Song</td>\n",
       "      <td>40.692971</td>\n",
       "      <td>42.126803</td>\n",
       "      <td>1205.859375</td>\n",
       "      <td>7235.15625</td>\n",
       "      <td>22050</td>\n",
       "      <td>(not validated)</td>\n",
       "      <td>https://arbimon.rfcx.org/api/project/urban-wet...</td>\n",
       "      <td>0.193366</td>\n",
       "      <td>22306</td>\n",
       "    </tr>\n",
       "    <tr>\n",
       "      <th>3</th>\n",
       "      <td>168185786</td>\n",
       "      <td>MON_20200331_010000.p4.flac</td>\n",
       "      <td>Angachilla</td>\n",
       "      <td>2020</td>\n",
       "      <td>3</td>\n",
       "      <td>31</td>\n",
       "      <td>1</td>\n",
       "      <td>3</td>\n",
       "      <td>Agelasticus thilius</td>\n",
       "      <td>Alternative Song</td>\n",
       "      <td>47.316463</td>\n",
       "      <td>48.750295</td>\n",
       "      <td>1205.859375</td>\n",
       "      <td>7235.15625</td>\n",
       "      <td>22050</td>\n",
       "      <td>(not validated)</td>\n",
       "      <td>https://arbimon.rfcx.org/api/project/urban-wet...</td>\n",
       "      <td>0.188449</td>\n",
       "      <td>22306</td>\n",
       "    </tr>\n",
       "    <tr>\n",
       "      <th>4</th>\n",
       "      <td>168185887</td>\n",
       "      <td>MON_20200331_110000.p1.flac</td>\n",
       "      <td>Angachilla</td>\n",
       "      <td>2020</td>\n",
       "      <td>3</td>\n",
       "      <td>31</td>\n",
       "      <td>11</td>\n",
       "      <td>0</td>\n",
       "      <td>Agelasticus thilius</td>\n",
       "      <td>Alternative Song</td>\n",
       "      <td>43.084626</td>\n",
       "      <td>44.518458</td>\n",
       "      <td>1205.859375</td>\n",
       "      <td>7235.15625</td>\n",
       "      <td>22050</td>\n",
       "      <td>(not validated)</td>\n",
       "      <td>https://arbimon.rfcx.org/api/project/urban-wet...</td>\n",
       "      <td>0.185002</td>\n",
       "      <td>22306</td>\n",
       "    </tr>\n",
       "  </tbody>\n",
       "</table>\n",
       "</div>"
      ],
      "text/plain": [
       "          id                    recording        site  year  month  day  hour  \\\n",
       "0  168185976  MON_20200331_180000.p5.flac  Angachilla  2020      3   31    18   \n",
       "1  168185910  MON_20200331_120000.p4.flac  Angachilla  2020      3   31    12   \n",
       "2  168185935  MON_20200331_150000.p2.flac  Angachilla  2020      3   31    15   \n",
       "3  168185786  MON_20200331_010000.p4.flac  Angachilla  2020      3   31     1   \n",
       "4  168185887  MON_20200331_110000.p1.flac  Angachilla  2020      3   31    11   \n",
       "\n",
       "   minute              species          songtype         x1         x2  \\\n",
       "0       4  Agelasticus thilius  Alternative Song  40.095057  41.528889   \n",
       "1       3  Agelasticus thilius  Alternative Song  11.662222  13.096054   \n",
       "2       1  Agelasticus thilius  Alternative Song  40.692971  42.126803   \n",
       "3       3  Agelasticus thilius  Alternative Song  47.316463  48.750295   \n",
       "4       0  Agelasticus thilius  Alternative Song  43.084626  44.518458   \n",
       "\n",
       "            y1          y2  frequency        validated  \\\n",
       "0  1205.859375  7235.15625      22050  (not validated)   \n",
       "1  1205.859375  7235.15625      22050  (not validated)   \n",
       "2  1205.859375  7235.15625      22050  (not validated)   \n",
       "3  1205.859375  7235.15625      22050  (not validated)   \n",
       "4  1205.859375  7235.15625      22050  (not validated)   \n",
       "\n",
       "                                                 url     score  site_id  \n",
       "0  https://arbimon.rfcx.org/api/project/urban-wet...  0.218565    22306  \n",
       "1  https://arbimon.rfcx.org/api/project/urban-wet...  0.193405    22306  \n",
       "2  https://arbimon.rfcx.org/api/project/urban-wet...  0.193366    22306  \n",
       "3  https://arbimon.rfcx.org/api/project/urban-wet...  0.188449    22306  \n",
       "4  https://arbimon.rfcx.org/api/project/urban-wet...  0.185002    22306  "
      ]
     },
     "execution_count": 21,
     "metadata": {},
     "output_type": "execute_result"
    }
   ],
   "source": [
    "if len(sound_annotation_files)==1:\n",
    "    labels= pd.read_csv(sound_annotation_files[0])\n",
    "elif len(sound_annotation_files)==0:\n",
    "    print('Must provide an annotation file')\n",
    "elif len(sound_annotation_files)>1:\n",
    "    labels = pd.read_csv(sound_annotation_files[0])\n",
    "    for i in sound_annotation_files[1:]:\n",
    "        tmp = pd.read_csv(i)\n",
    "        labels = pd.concat([labels,tmp])\n",
    "labels.head()"
   ]
  },
  {
   "cell_type": "code",
   "execution_count": 6,
   "metadata": {},
   "outputs": [],
   "source": [
    "'''\n",
    "callshape = []\n",
    "for i in range(len(labels)):\n",
    "    callshape.append(labels.iloc[i].species.replace(' ', '_') + '-' + labels.iloc[i].songtype.replace(' ', '_'))\n",
    "'''"
   ]
  },
  {
   "cell_type": "code",
   "execution_count": 8,
   "metadata": {},
   "outputs": [],
   "source": [
    "#labels.insert(loc=10, column='callshape', value=callshape)"
   ]
  },
  {
   "cell_type": "code",
   "execution_count": 22,
   "metadata": {},
   "outputs": [],
   "source": [
    "#labels"
   ]
  },
  {
   "cell_type": "code",
   "execution_count": 23,
   "metadata": {},
   "outputs": [
    {
     "name": "stdout",
     "output_type": "stream",
     "text": [
      "21685 114646 4132764\n"
     ]
    }
   ],
   "source": [
    "presences = labels[labels.validated == 'present']\n",
    "absences = labels[labels.validated == 'not present']\n",
    "not_validated = labels[labels.validated == '(not validated)']\n",
    "print(len(presences), len(absences), len(not_validated))"
   ]
  },
  {
   "cell_type": "code",
   "execution_count": 24,
   "metadata": {},
   "outputs": [],
   "source": [
    "'''\n",
    "not_validated.to_csv('../sound_annotation_files_splited/not_validated/not_validated.csv') #Data to augmentation\n",
    "presences.to_csv('../sound_annotation_files_splited/presences/presences.csv') \n",
    "absences.to_csv('../sound_annotation_files_splited/absences/absences.csv') \n",
    "'''"
   ]
  },
  {
   "cell_type": "code",
   "execution_count": 25,
   "metadata": {
    "scrolled": true
   },
   "outputs": [
    {
     "name": "stdout",
     "output_type": "stream",
     "text": [
      "Number of presences for each specie\n",
      "\n",
      "Agelasticus thilius\t\t5014\n",
      "Anairetes parulus\t\t302\n",
      "Cistothorus platensis\t\t1434\n",
      "Colorhamphus parvirostris\t\t1256\n",
      "Curaeus curaeus\t\t603\n",
      "Elaenia albiceps\t\t4137\n",
      "Eugralla paradoxa\t\t459\n",
      "Gallinago paraguaiae\t\t1010\n",
      "Glaucidium nana\t\t160\n",
      "Mareca sibilatrix\t\t1052\n",
      "Pardirallus sanguinolentus\t\t1318\n",
      "Phleocryptes melanops\t\t639\n",
      "Porzana spiloptera\t\t1413\n",
      "Scytalopus magellanicus\t\t1018\n",
      "Sicalis luteola\t\t1160\n",
      "Troglodytes aedon\t\t710\n"
     ]
    }
   ],
   "source": [
    "print('Number of presences for each specie\\n')\n",
    "\n",
    "for i in sorted(list(set(presences.species))):\n",
    "    print(str(i)+'\\t\\t'+str(len(presences[presences.species==i])))"
   ]
  },
  {
   "cell_type": "code",
   "execution_count": 26,
   "metadata": {},
   "outputs": [
    {
     "name": "stdout",
     "output_type": "stream",
     "text": [
      "Number of absences for each specie\n",
      "\n",
      "Agelasticus thilius\t\t9540\n",
      "Anairetes parulus\t\t1061\n",
      "Cistothorus platensis\t\t8515\n",
      "Colorhamphus parvirostris\t\t17411\n",
      "Curaeus curaeus\t\t1003\n",
      "Elaenia albiceps\t\t19549\n",
      "Eugralla paradoxa\t\t904\n",
      "Gallinago paraguaiae\t\t14993\n",
      "Glaucidium nana\t\t11202\n",
      "Mareca sibilatrix\t\t1728\n",
      "Pardirallus sanguinolentus\t\t12146\n",
      "Phleocryptes melanops\t\t1078\n",
      "Porzana spiloptera\t\t12231\n",
      "Scytalopus magellanicus\t\t1117\n",
      "Sicalis luteola\t\t1168\n",
      "Troglodytes aedon\t\t1000\n"
     ]
    }
   ],
   "source": [
    "print('Number of absences for each specie\\n')\n",
    "\n",
    "for i in sorted(list(set(absences.species))):\n",
    "    print(str(i)+'\\t\\t'+str(len(absences[absences.species==i])))"
   ]
  },
  {
   "cell_type": "code",
   "execution_count": 13,
   "metadata": {
    "scrolled": true
   },
   "outputs": [
    {
     "name": "stdout",
     "output_type": "stream",
     "text": [
      "Audios of presences OK\n"
     ]
    }
   ],
   "source": [
    "# Download audio from Arbimon:\n",
    "\n",
    "### presences ###\n",
    "k = 0\n",
    "for i in list(set(presences.url)): # loop over recordings\n",
    "    tmp = presences[presences.url==i]\n",
    "    audio_filename = tmp.iloc[0].url.split('download/')[1]\n",
    "    if not os.path.exists(recording_dir+audio_filename):\n",
    "        try:\n",
    "            urllib.request.urlretrieve(tmp.iloc[0].url, recording_dir+audio_filename)\n",
    "            k = k+1\n",
    "            print(k)\n",
    "        except:\n",
    "            print('DOWNLOAD ERROR', audio_filename)\n",
    "            continue           \n",
    "print('Audios of presences OK')"
   ]
  },
  {
   "cell_type": "code",
   "execution_count": 14,
   "metadata": {
    "scrolled": true
   },
   "outputs": [
    {
     "name": "stdout",
     "output_type": "stream",
     "text": [
      "Audios of absences OK\n"
     ]
    }
   ],
   "source": [
    "### absences ###\n",
    "q = 0\n",
    "for i in list(set(absences.url)): # loop over recordings\n",
    "    tmp = absences[absences.url==i]\n",
    "    audio_filename = tmp.iloc[0].url.split('download/')[1]\n",
    "    if not os.path.exists(recording_dir+audio_filename):\n",
    "        try:\n",
    "            urllib.request.urlretrieve(tmp.iloc[0].url, recording_dir+audio_filename)\n",
    "            q = q+1\n",
    "            print(q)\n",
    "        except:\n",
    "            print('DOWNLOAD ERROR', audio_filename)\n",
    "            continue\n",
    "print('Audios of absences OK')"
   ]
  },
  {
   "cell_type": "code",
   "execution_count": 15,
   "metadata": {
    "scrolled": true
   },
   "outputs": [
    {
     "name": "stdout",
     "output_type": "stream",
     "text": [
      "Spectrograms OK\n",
      " Total missed samples:  0\n",
      "CPU times: user 338 ms, sys: 12 ms, total: 350 ms\n",
      "Wall time: 360 ms\n"
     ]
    }
   ],
   "source": [
    "%%time\n",
    "window_length = 2 # sample time-window length in seconds\n",
    "missed = 0\n",
    "\n",
    "for i in list(set(presences.url)): # loop over recordings\n",
    "        \n",
    "    tmp = presences[presences.url==i]\n",
    "    audio_filename = tmp.iloc[0].url.split('download/')[1]\n",
    "    \n",
    "    for c in range(len(tmp)): # loop over labels in the same recording\n",
    "        sound_start, sound_end = [tmp.iloc[c]['x1'], tmp.iloc[c]['x2']]\n",
    "        specie = tmp.iloc[c].species\n",
    "        #callshape = tmp.iloc[c].callshape\n",
    "        index_tmp = tmp.iloc[c].index\n",
    "        #print(tmp.iloc[c].id)\n",
    "            \n",
    "        if not os.path.exists(dataset_dir_p+str(specie)):\n",
    "            os.mkdir(dataset_dir_p+str(specie))\n",
    "\n",
    "        shft = ((sound_end-sound_start)-window_length)/2\n",
    "        start_sample = round(sampling_rate*(sound_start+shft))\n",
    "        end_sample = start_sample+round(sampling_rate*window_length)\n",
    "        #wav_name = tmp.iloc[c].recording.split('.')[0]\n",
    "        #arbimon_minute = tmp.iloc[c].recording.split('.')[1]\n",
    "        #minute_number = int(arbimon_minute.split('p')[1]) - 1 \n",
    "        #site = tmp.iloc[c].site\n",
    "        #filename_info = site+'-'+audio_filename+'-'+wav_name+'-'+'min'+str(minute_number)+'sec'+str(round(start_sample/sampling_rate,2))\n",
    "        filename = 'id_'+str(tmp.iloc[c].id)+'.png'\n",
    "        #print(filename)\n",
    "            \n",
    "        if not os.path.exists(dataset_dir_p+str(specie)+'/'+filename):\n",
    "            try:\n",
    "                audio_data, sampling_rate = librosa.load(recording_dir+audio_filename, sr=sampling_rate)\n",
    "            except Exception as e:\n",
    "                missed = missed + 1\n",
    "                print(str(missed),'ERROR: LIBROSA LOAD\\n', filename)\n",
    "                continue\n",
    "            \n",
    "            try:\n",
    "                S = librosa.feature.melspectrogram(y = audio_data[int(start_sample):int(end_sample)], \n",
    "                                                   sr = sampling_rate,\n",
    "                                                   n_fft = 2048,\n",
    "                                                   n_mels = 128,\n",
    "                                                   hop_length = 512, \n",
    "                                                   win_length = 1024)\n",
    "                dpi=100\n",
    "                fig = plt.figure(num=None, figsize=(300/dpi, 300/dpi), dpi=dpi)\n",
    "                #plt.subplot(222)\n",
    "                ax = plt.axes()\n",
    "                ax.set_axis_off()\n",
    "                librosa.display.specshow(librosa.power_to_db(S, ref=np.max))\n",
    "                plt.savefig(dataset_dir_p+str(specie)+'/'+filename, bbox_inches='tight', transparent=True, pad_inches=0.0)\n",
    "                plt.close()\n",
    "            except Exception as e:\n",
    "                missed = missed + 1\n",
    "                print(str(missed),'ERROR LIBROSA FEATURE ### id: ', tmp.iloc[c].id, '### ', \n",
    "                      'start sample: ' ,start_sample)\n",
    "                continue\n",
    "\n",
    "print('Spectrograms OK\\n', 'Total missed samples: ', missed)"
   ]
  },
  {
   "cell_type": "code",
   "execution_count": 16,
   "metadata": {
    "scrolled": true
   },
   "outputs": [
    {
     "name": "stderr",
     "output_type": "stream",
     "text": [
      "/home/gabsoni/miniconda3/envs/exp1/lib/python3.9/site-packages/librosa/core/spectrum.py:222: UserWarning: n_fft=2048 is too small for input signal of length=0\n",
      "  warnings.warn(\n"
     ]
    },
    {
     "name": "stdout",
     "output_type": "stream",
     "text": [
      "1 ERROR LIBROSA FEATURE ### id:  227332676 ###  start sample:  -196\n",
      "2 ERROR LIBROSA FEATURE ### id:  227375350 ###  start sample:  -452\n",
      "3 ERROR LIBROSA FEATURE ### id:  227361579 ###  start sample:  -452\n",
      "4 ERROR LIBROSA FEATURE ### id:  227267373 ###  start sample:  -68\n",
      "5 ERROR LIBROSA FEATURE ### id:  227383536 ###  start sample:  -708\n",
      "6 ERROR LIBROSA FEATURE ### id:  227262126 ###  start sample:  -68\n",
      "7 ERROR LIBROSA FEATURE ### id:  227383897 ###  start sample:  -708\n",
      "8 ERROR LIBROSA FEATURE ### id:  227400881 ###  start sample:  -708\n",
      "9 ERROR LIBROSA FEATURE ### id:  227359829 ###  start sample:  -708\n",
      "10 ERROR LIBROSA FEATURE ### id:  227399497 ###  start sample:  -452\n",
      "Spectrograms OK\n",
      " Total missed samples:  10\n",
      "CPU times: user 19min 39s, sys: 25.3 s, total: 20min 4s\n",
      "Wall time: 5min 7s\n"
     ]
    }
   ],
   "source": [
    "%%time\n",
    "# Repeat previous cell for absences\n",
    "\n",
    "window_length = 2 # sample time-window length in seconds\n",
    "missed = 0\n",
    "\n",
    "for i in list(set(absences.url)): # loop over recordings\n",
    "        \n",
    "    tmp = absences[absences.url==i]\n",
    "    audio_filename = tmp.iloc[0].url.split('download/')[1]\n",
    "    \n",
    "    for c in range(len(tmp)): # loop over labels in the same recording\n",
    "        sound_start, sound_end = [tmp.iloc[c]['x1'], tmp.iloc[c]['x2']]\n",
    "        specie = tmp.iloc[c].species\n",
    "        #callshape = tmp.iloc[c].callshape\n",
    "        index_tmp = tmp.iloc[c].index\n",
    "            \n",
    "        if not os.path.exists(dataset_dir_a+str(specie)):\n",
    "            os.mkdir(dataset_dir_a+str(specie))\n",
    "\n",
    "        shft = ((sound_end-sound_start)-window_length)/2\n",
    "        start_sample = round(sampling_rate*(sound_start+shft))\n",
    "        end_sample = start_sample+round(sampling_rate*window_length)\n",
    "        filename = 'id_'+str(tmp.iloc[c].id)+'.png'\n",
    "            \n",
    "        if not os.path.exists(dataset_dir_a+str(specie)+'/'+filename):\n",
    "            try:\n",
    "                audio_data, sampling_rate = librosa.load(recording_dir+audio_filename, sr=sampling_rate)\n",
    "            except Exception as e:\n",
    "                missed = missed + 1\n",
    "                print(str(missed),'ERROR: LIBROSA LOAD\\n', filename)\n",
    "                continue\n",
    "            \n",
    "            try:\n",
    "                S = librosa.feature.melspectrogram(y = audio_data[int(start_sample):int(end_sample)], \n",
    "                                                   sr = sampling_rate,\n",
    "                                                   n_fft = 2048,\n",
    "                                                   n_mels = 128,\n",
    "                                                   hop_length = 512, \n",
    "                                                   win_length = 1024)\n",
    "                dpi=100\n",
    "                fig = plt.figure(num=None, figsize=(300/dpi, 300/dpi), dpi=dpi)\n",
    "                #plt.subplot(222)\n",
    "                ax = plt.axes()\n",
    "                ax.set_axis_off()\n",
    "                librosa.display.specshow(librosa.power_to_db(S, ref=np.max))\n",
    "                plt.savefig(dataset_dir_a+str(specie)+'/'+filename, bbox_inches='tight', transparent=True, pad_inches=0.0)\n",
    "                plt.close()\n",
    "            except Exception as e:\n",
    "                missed = missed + 1\n",
    "                print(str(missed),'ERROR LIBROSA FEATURE ### id: ', tmp.iloc[c].id, '### ', \n",
    "                      'start sample: ' ,start_sample)\n",
    "                continue\n",
    "\n",
    "print('Spectrograms OK\\n', 'Total missed samples: ', missed)"
   ]
  },
  {
   "cell_type": "code",
   "execution_count": null,
   "metadata": {},
   "outputs": [],
   "source": []
  },
  {
   "cell_type": "code",
   "execution_count": null,
   "metadata": {},
   "outputs": [],
   "source": []
  },
  {
   "cell_type": "code",
   "execution_count": null,
   "metadata": {},
   "outputs": [],
   "source": []
  }
 ],
 "metadata": {
  "kernelspec": {
   "display_name": "exp1",
   "language": "python",
   "name": "exp1"
  },
  "language_info": {
   "codemirror_mode": {
    "name": "ipython",
    "version": 3
   },
   "file_extension": ".py",
   "mimetype": "text/x-python",
   "name": "python",
   "nbconvert_exporter": "python",
   "pygments_lexer": "ipython3",
   "version": "3.9.5"
  }
 },
 "nbformat": 4,
 "nbformat_minor": 2
}
